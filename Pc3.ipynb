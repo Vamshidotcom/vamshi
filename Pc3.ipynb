{
  "nbformat": 4,
  "nbformat_minor": 0,
  "metadata": {
    "colab": {
      "provenance": [],
      "authorship_tag": "ABX9TyM9pNcN9ncrq4bsJAMvz5hr",
      "include_colab_link": true
    },
    "kernelspec": {
      "name": "python3",
      "display_name": "Python 3"
    },
    "language_info": {
      "name": "python"
    }
  },
  "cells": [
    {
      "cell_type": "markdown",
      "metadata": {
        "id": "view-in-github",
        "colab_type": "text"
      },
      "source": [
        "<a href=\"https://colab.research.google.com/github/Vamshidotcom/vamshi/blob/main/Pc3.ipynb\" target=\"_parent\"><img src=\"https://colab.research.google.com/assets/colab-badge.svg\" alt=\"Open In Colab\"/></a>"
      ]
    },
    {
      "cell_type": "code",
      "execution_count": 1,
      "metadata": {
        "id": "s4mVN-EH4x3L",
        "outputId": "fe1a4f6e-c2e1-4a03-d898-ab03d2e5553e",
        "colab": {
          "base_uri": "https://localhost:8080/",
          "height": 70
        }
      },
      "outputs": [
        {
          "output_type": "execute_result",
          "data": {
            "text/plain": [
              "\"print(value, ..., sep=' ', end='\\\\n', file=sys.stdout, flush=False)\\n\\nPrints the values to a stream, or to sys.stdout by default.\\nOptional keyword arguments:\\nfile:  a file-like object (stream); defaults to the current sys.stdout.\\nsep:   string inserted between values, default a space.\\nend:   string appended after the last value, default a newline.\\nflush: whether to forcibly flush the stream.\""
            ],
            "application/vnd.google.colaboratory.intrinsic+json": {
              "type": "string"
            }
          },
          "metadata": {},
          "execution_count": 1
        }
      ],
      "source": [
        "print.__doc__"
      ]
    },
    {
      "cell_type": "code",
      "source": [
        "len.__doc__"
      ],
      "metadata": {
        "id": "ChGKDPGH5EpE",
        "outputId": "fd1685df-0082-4a93-87fb-cd9d780f845b",
        "colab": {
          "base_uri": "https://localhost:8080/",
          "height": 36
        }
      },
      "execution_count": 2,
      "outputs": [
        {
          "output_type": "execute_result",
          "data": {
            "text/plain": [
              "'Return the number of items in a container.'"
            ],
            "application/vnd.google.colaboratory.intrinsic+json": {
              "type": "string"
            }
          },
          "metadata": {},
          "execution_count": 2
        }
      ]
    },
    {
      "cell_type": "code",
      "source": [
        "def square(n):\n",
        "    ''' Takes in a number n, returns the square of n'''\n",
        "    return n**2"
      ],
      "metadata": {
        "id": "YC8ALpKA5LDg"
      },
      "execution_count": 3,
      "outputs": []
    },
    {
      "cell_type": "code",
      "source": [
        "square.__doc__"
      ],
      "metadata": {
        "id": "DdiGv0tU5Rr2",
        "outputId": "a5aac329-da7b-4b99-d102-007c436c0ed8",
        "colab": {
          "base_uri": "https://localhost:8080/",
          "height": 36
        }
      },
      "execution_count": 4,
      "outputs": [
        {
          "output_type": "execute_result",
          "data": {
            "text/plain": [
              "' Takes in a number n, returns the square of n'"
            ],
            "application/vnd.google.colaboratory.intrinsic+json": {
              "type": "string"
            }
          },
          "metadata": {},
          "execution_count": 4
        }
      ]
    },
    {
      "cell_type": "code",
      "source": [
        "y = 7\n",
        "def funct1():\n",
        "  global y\n",
        "  y = y + 1\n",
        "  print(y)\n",
        "print(y)"
      ],
      "metadata": {
        "id": "TlAEuXq45boo",
        "outputId": "bfe6d679-1d7b-4eb4-c7b9-8c8e7ffc2d6f",
        "colab": {
          "base_uri": "https://localhost:8080/"
        }
      },
      "execution_count": 5,
      "outputs": [
        {
          "output_type": "stream",
          "name": "stdout",
          "text": [
            "7\n"
          ]
        }
      ]
    },
    {
      "cell_type": "code",
      "source": [
        "funct1()"
      ],
      "metadata": {
        "id": "-ADU5dUV5uqx",
        "outputId": "6ba097ba-5f1e-4774-b8f0-87496c139427",
        "colab": {
          "base_uri": "https://localhost:8080/"
        }
      },
      "execution_count": 6,
      "outputs": [
        {
          "output_type": "stream",
          "name": "stdout",
          "text": [
            "8\n"
          ]
        }
      ]
    },
    {
      "cell_type": "code",
      "source": [
        "y"
      ],
      "metadata": {
        "id": "TsyBcfgA5yQR",
        "outputId": "4daed51c-f59e-4f57-8260-fbec50cdbb95",
        "colab": {
          "base_uri": "https://localhost:8080/"
        }
      },
      "execution_count": 7,
      "outputs": [
        {
          "output_type": "execute_result",
          "data": {
            "text/plain": [
              "8"
            ]
          },
          "metadata": {},
          "execution_count": 7
        }
      ]
    },
    {
      "cell_type": "code",
      "source": [
        "def add_two(a,b) ->int:\n",
        "    return a + b"
      ],
      "metadata": {
        "id": "BDhxphzZ51RK"
      },
      "execution_count": 8,
      "outputs": []
    },
    {
      "cell_type": "code",
      "source": [
        "add_two(4,5)"
      ],
      "metadata": {
        "id": "rz6QsQ7D6DiG",
        "outputId": "3bbf5902-6ee3-484e-dc8b-f6eefebc7344",
        "colab": {
          "base_uri": "https://localhost:8080/"
        }
      },
      "execution_count": 9,
      "outputs": [
        {
          "output_type": "execute_result",
          "data": {
            "text/plain": [
              "9"
            ]
          },
          "metadata": {},
          "execution_count": 9
        }
      ]
    },
    {
      "cell_type": "code",
      "source": [
        "a :int = 20"
      ],
      "metadata": {
        "id": "po5tUYY_6Ihh"
      },
      "execution_count": 10,
      "outputs": []
    },
    {
      "cell_type": "code",
      "source": [
        "a"
      ],
      "metadata": {
        "id": "RGpzxa-S6NGw",
        "outputId": "8f8a8588-c1c9-4af3-a24e-25c08c0a7d73",
        "colab": {
          "base_uri": "https://localhost:8080/"
        }
      },
      "execution_count": 11,
      "outputs": [
        {
          "output_type": "execute_result",
          "data": {
            "text/plain": [
              "20"
            ]
          },
          "metadata": {},
          "execution_count": 11
        }
      ]
    },
    {
      "cell_type": "code",
      "source": [
        "a =30.5"
      ],
      "metadata": {
        "id": "DzI9Hkv56PQe"
      },
      "execution_count": 12,
      "outputs": []
    },
    {
      "cell_type": "code",
      "source": [
        "a"
      ],
      "metadata": {
        "id": "xiRM_PS_6TpL",
        "outputId": "34c2ab91-5053-4ae3-cc5f-2041b52c147d",
        "colab": {
          "base_uri": "https://localhost:8080/"
        }
      },
      "execution_count": 13,
      "outputs": [
        {
          "output_type": "execute_result",
          "data": {
            "text/plain": [
              "30.5"
            ]
          },
          "metadata": {},
          "execution_count": 13
        }
      ]
    },
    {
      "cell_type": "code",
      "source": [
        "def myfunct(*names):\n",
        "  for i in names:\n",
        "    print(f'hello {i}')"
      ],
      "metadata": {
        "id": "7O0G0_W36XPY"
      },
      "execution_count": 14,
      "outputs": []
    },
    {
      "cell_type": "code",
      "source": [
        "myfunct('peter','john',20,True)"
      ],
      "metadata": {
        "id": "IYRXbE7S6pl5",
        "outputId": "e1b2899c-1f64-4baf-9dc1-cd1bdbffdf7d",
        "colab": {
          "base_uri": "https://localhost:8080/"
        }
      },
      "execution_count": 15,
      "outputs": [
        {
          "output_type": "stream",
          "name": "stdout",
          "text": [
            "hello peter\n",
            "hello john\n",
            "hello 20\n",
            "hello True\n"
          ]
        }
      ]
    },
    {
      "cell_type": "code",
      "source": [
        "def myfunct2(**item):\n",
        "  for key,value in item.items():\n",
        "    print(f'{key} is {value}')\n"
      ],
      "metadata": {
        "id": "NAd0DdC77S7F"
      },
      "execution_count": 16,
      "outputs": []
    },
    {
      "cell_type": "code",
      "source": [
        "myfunct2(name='peter',age=20)"
      ],
      "metadata": {
        "id": "Mc5F56Bx7i9e",
        "outputId": "74d8d3da-72bf-4c7c-dc02-fbfa706a94bf",
        "colab": {
          "base_uri": "https://localhost:8080/"
        }
      },
      "execution_count": 17,
      "outputs": [
        {
          "output_type": "stream",
          "name": "stdout",
          "text": [
            "name is peter\n",
            "age is 20\n"
          ]
        }
      ]
    },
    {
      "cell_type": "code",
      "source": [
        "n = list(range(20))\n",
        "def even(x):\n",
        "  return x % 2 == 0\n",
        "list(map(even,n))"
      ],
      "metadata": {
        "id": "XAcQw9Jd7wCg",
        "outputId": "48e022bd-921d-45bf-9e43-fb79dd3bfde9",
        "colab": {
          "base_uri": "https://localhost:8080/"
        }
      },
      "execution_count": 20,
      "outputs": [
        {
          "output_type": "execute_result",
          "data": {
            "text/plain": [
              "[True,\n",
              " False,\n",
              " True,\n",
              " False,\n",
              " True,\n",
              " False,\n",
              " True,\n",
              " False,\n",
              " True,\n",
              " False,\n",
              " True,\n",
              " False,\n",
              " True,\n",
              " False,\n",
              " True,\n",
              " False,\n",
              " True,\n",
              " False,\n",
              " True,\n",
              " False]"
            ]
          },
          "metadata": {},
          "execution_count": 20
        }
      ]
    },
    {
      "cell_type": "code",
      "source": [
        "n = list(range(5))   #0,1,2,3,4\n",
        "from functools import reduce\n",
        "def add(x,y):\n",
        "  return x + y\n",
        "\n",
        "reduce(add,n)"
      ],
      "metadata": {
        "id": "eIQaPHlR8juO",
        "outputId": "aea6dc3a-9cc5-4380-e2d1-407440c455a2",
        "colab": {
          "base_uri": "https://localhost:8080/"
        }
      },
      "execution_count": 21,
      "outputs": [
        {
          "output_type": "execute_result",
          "data": {
            "text/plain": [
              "10"
            ]
          },
          "metadata": {},
          "execution_count": 21
        }
      ]
    },
    {
      "cell_type": "code",
      "source": [
        "n = list(range(20))\n",
        "def is_even(x):\n",
        "  return x % 2 == 0\n",
        "print('filtered numbers' , list(filter(is_even,n)))"
      ],
      "metadata": {
        "id": "039TFwFI9Q9n",
        "outputId": "4bc4d92a-1f96-4854-daad-283da6488456",
        "colab": {
          "base_uri": "https://localhost:8080/"
        }
      },
      "execution_count": 23,
      "outputs": [
        {
          "output_type": "stream",
          "name": "stdout",
          "text": [
            "filtered numbers [0, 2, 4, 6, 8, 10, 12, 14, 16, 18]\n"
          ]
        }
      ]
    },
    {
      "cell_type": "code",
      "source": [
        "from math import pi,sqrt\n",
        "def r_square(r):\n",
        "  return r * r\n",
        "def area_circle(r,f,a):\n",
        "  print('area of square ',f(r) * a[0])\n",
        "  print('area of circle ',a(r) * a[1])\n",
        "  print('area of hexagone ',f(r) *a[2])"
      ],
      "metadata": {
        "id": "pmRb-SeX-O8m"
      },
      "execution_count": 2,
      "outputs": []
    },
    {
      "cell_type": "code",
      "source": [
        "a = lambda x : x*x"
      ],
      "metadata": {
        "id": "jMeiSSIH7p_m"
      },
      "execution_count": 8,
      "outputs": []
    },
    {
      "cell_type": "code",
      "source": [
        "a(5)"
      ],
      "metadata": {
        "id": "rNVTjAHf7zjk",
        "outputId": "5968fc2c-56e2-4848-fd32-608f50d6761b",
        "colab": {
          "base_uri": "https://localhost:8080/"
        }
      },
      "execution_count": 9,
      "outputs": [
        {
          "output_type": "execute_result",
          "data": {
            "text/plain": [
              "25"
            ]
          },
          "metadata": {},
          "execution_count": 9
        }
      ]
    },
    {
      "cell_type": "code",
      "source": [
        "num1 = [1,2,3]\n",
        "num2 = [2,4,5,6]\n",
        "num3 = [1,2,3]"
      ],
      "metadata": {
        "id": "gE1QNT4Y724c"
      },
      "execution_count": 10,
      "outputs": []
    },
    {
      "cell_type": "code",
      "source": [
        "list(map(lambda x,y,z : x+y+z,num1,num2,num3))"
      ],
      "metadata": {
        "id": "928GSL1p8HaJ",
        "outputId": "d3c114cc-bb3f-4cf0-da71-7415a14fb9a9",
        "colab": {
          "base_uri": "https://localhost:8080/"
        }
      },
      "execution_count": 11,
      "outputs": [
        {
          "output_type": "execute_result",
          "data": {
            "text/plain": [
              "[4, 8, 11]"
            ]
          },
          "metadata": {},
          "execution_count": 11
        }
      ]
    },
    {
      "cell_type": "code",
      "source": [
        "b = lambda :'hello'"
      ],
      "metadata": {
        "id": "aYqkageg8ZBm"
      },
      "execution_count": 12,
      "outputs": []
    },
    {
      "cell_type": "code",
      "source": [
        "b()"
      ],
      "metadata": {
        "id": "j0mtsKF98hqn",
        "outputId": "a0c4aedb-5007-40b1-b75e-10eea1aabbfe",
        "colab": {
          "base_uri": "https://localhost:8080/",
          "height": 36
        }
      },
      "execution_count": 14,
      "outputs": [
        {
          "output_type": "execute_result",
          "data": {
            "text/plain": [
              "'hello'"
            ],
            "application/vnd.google.colaboratory.intrinsic+json": {
              "type": "string"
            }
          },
          "metadata": {},
          "execution_count": 14
        }
      ]
    },
    {
      "cell_type": "code",
      "source": [
        "a = lambda x : x %2 == 0"
      ],
      "metadata": {
        "id": "OdJtKm0x8rBJ"
      },
      "execution_count": 15,
      "outputs": []
    },
    {
      "cell_type": "code",
      "source": [
        "a(4)"
      ],
      "metadata": {
        "id": "KEV0n8x780Ul",
        "outputId": "53031298-e648-406a-922a-136d67022314",
        "colab": {
          "base_uri": "https://localhost:8080/"
        }
      },
      "execution_count": 16,
      "outputs": [
        {
          "output_type": "execute_result",
          "data": {
            "text/plain": [
              "True"
            ]
          },
          "metadata": {},
          "execution_count": 16
        }
      ]
    },
    {
      "cell_type": "code",
      "source": [
        "n = lambda x : f\"{x} is even\" if x % 2 == 0 else f\"{x} is odd\"\n",
        "print(n(9))"
      ],
      "metadata": {
        "id": "h11aPdb2872C",
        "outputId": "726a0011-c46e-4806-9b0b-90ca6e7acf1f",
        "colab": {
          "base_uri": "https://localhost:8080/"
        }
      },
      "execution_count": 18,
      "outputs": [
        {
          "output_type": "stream",
          "name": "stdout",
          "text": [
            "9 is odd\n"
          ]
        }
      ]
    },
    {
      "cell_type": "code",
      "source": [
        "class Person:\n",
        "  def add_numbers(self,a,b):\n",
        "    return a + b"
      ],
      "metadata": {
        "id": "ZgoYatsM9P_m"
      },
      "execution_count": 19,
      "outputs": []
    },
    {
      "cell_type": "code",
      "source": [
        "p = Person()"
      ],
      "metadata": {
        "id": "O0CFL-xC9eLq"
      },
      "execution_count": 20,
      "outputs": []
    },
    {
      "cell_type": "code",
      "source": [
        "p.add_numbers(4,5)"
      ],
      "metadata": {
        "id": "nz7VXTmz9h-0",
        "outputId": "aaf45441-88a9-41e9-b36e-19476a71ce72",
        "colab": {
          "base_uri": "https://localhost:8080/"
        }
      },
      "execution_count": 21,
      "outputs": [
        {
          "output_type": "execute_result",
          "data": {
            "text/plain": [
              "9"
            ]
          },
          "metadata": {},
          "execution_count": 21
        }
      ]
    }
  ]
}